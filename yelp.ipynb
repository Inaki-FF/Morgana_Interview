{
 "cells": [
  {
   "cell_type": "code",
   "execution_count": 1,
   "metadata": {},
   "outputs": [],
   "source": [
    "import pandas as pd\n",
    "from pymongo import MongoClient"
   ]
  },
  {
   "cell_type": "markdown",
   "metadata": {},
   "source": [
    "Descargando los archivos json"
   ]
  },
  {
   "cell_type": "code",
   "execution_count": 2,
   "metadata": {},
   "outputs": [],
   "source": [
    "business = pd.read_json('business.json', lines=True)\n",
    "reviews = pd.read_json('review.json', lines=True)\n",
    "user = pd.read_json('user.json', lines=True)\n"
   ]
  },
  {
   "cell_type": "code",
   "execution_count": 3,
   "metadata": {},
   "outputs": [],
   "source": [
    "business['categories'] = business.apply(lambda x: set(x['categories'].replace(\" \",\"\").split(',')) if x.categories is not None else x, axis=1)"
   ]
  },
  {
   "cell_type": "code",
   "execution_count": 13,
   "metadata": {},
   "outputs": [
    {
     "data": {
      "text/plain": [
       "Index(['review_id', 'user_id', 'business_id', 'stars', 'useful', 'funny',\n",
       "       'cool', 'text', 'date'],\n",
       "      dtype='object')"
      ]
     },
     "execution_count": 13,
     "metadata": {},
     "output_type": "execute_result"
    }
   ],
   "source": [
    "reviews.columns"
   ]
  },
  {
   "cell_type": "code",
   "execution_count": 26,
   "metadata": {},
   "outputs": [],
   "source": [
    "business['categories'] = business.apply(lambda x: dict.fromkeys(x['categories'].replace(\" \",\"\").split(','),True) if x.categories is not None else x, axis=1)"
   ]
  },
  {
   "cell_type": "code",
   "execution_count": 21,
   "metadata": {},
   "outputs": [
    {
     "ename": "ValueError",
     "evalue": "The truth value of a Series is ambiguous. Use a.empty, a.bool(), a.item(), a.any() or a.all().",
     "output_type": "error",
     "traceback": [
      "\u001b[1;31m---------------------------------------------------------------------------\u001b[0m",
      "\u001b[1;31mValueError\u001b[0m                                Traceback (most recent call last)",
      "\u001b[1;32ma:\\Morgana\\yelp.ipynb Cell 7'\u001b[0m in \u001b[0;36m<cell line: 10>\u001b[1;34m()\u001b[0m\n\u001b[0;32m      <a href='vscode-notebook-cell:/a%3A/Morgana/yelp.ipynb#ch0000005?line=7'>8</a>\u001b[0m     df \u001b[39m=\u001b[39m pd\u001b[39m.\u001b[39mmerge(business_query,review, left_on\u001b[39m=\u001b[39m\u001b[39m\"\u001b[39m\u001b[39mbusiness_id\u001b[39m\u001b[39m\"\u001b[39m, right_on \u001b[39m=\u001b[39m \u001b[39m\"\u001b[39m\u001b[39mbusiness_id\u001b[39m\u001b[39m\"\u001b[39m)\n\u001b[0;32m      <a href='vscode-notebook-cell:/a%3A/Morgana/yelp.ipynb#ch0000005?line=8'>9</a>\u001b[0m     \u001b[39mreturn\u001b[39;00m df\n\u001b[1;32m---> <a href='vscode-notebook-cell:/a%3A/Morgana/yelp.ipynb#ch0000005?line=9'>10</a>\u001b[0m \u001b[39mfilter\u001b[39;49m(filters\u001b[39m=\u001b[39;49mfilters)\n",
      "\u001b[1;32ma:\\Morgana\\yelp.ipynb Cell 7'\u001b[0m in \u001b[0;36mfilter\u001b[1;34m(filters)\u001b[0m\n\u001b[0;32m      <a href='vscode-notebook-cell:/a%3A/Morgana/yelp.ipynb#ch0000005?line=3'>4</a>\u001b[0m \u001b[39mdef\u001b[39;00m \u001b[39mfilter\u001b[39m(filters):\n\u001b[0;32m      <a href='vscode-notebook-cell:/a%3A/Morgana/yelp.ipynb#ch0000005?line=4'>5</a>\u001b[0m     aux \u001b[39m=\u001b[39m \u001b[39mset\u001b[39m(filters)\n\u001b[1;32m----> <a href='vscode-notebook-cell:/a%3A/Morgana/yelp.ipynb#ch0000005?line=5'>6</a>\u001b[0m     business_query \u001b[39m=\u001b[39m business[business[\u001b[39m'\u001b[39;49m\u001b[39mcategories\u001b[39;49m\u001b[39m'\u001b[39;49m]\u001b[39m.\u001b[39;49m\u001b[39m__eq__\u001b[39;49m(aux) \u001b[39m==\u001b[39m \u001b[39mTrue\u001b[39;00m]\n\u001b[0;32m      <a href='vscode-notebook-cell:/a%3A/Morgana/yelp.ipynb#ch0000005?line=6'>7</a>\u001b[0m     review \u001b[39m=\u001b[39m reviews\u001b[39m.\u001b[39mloc[(reviews\u001b[39m.\u001b[39mbusiness_id\u001b[39m.\u001b[39misin(business_query\u001b[39m.\u001b[39mbusiness_id)) \u001b[39m&\u001b[39m ( reviews\u001b[39m.\u001b[39mstars \u001b[39m>\u001b[39m\u001b[39m=\u001b[39m\u001b[39m4\u001b[39m)]\n\u001b[0;32m      <a href='vscode-notebook-cell:/a%3A/Morgana/yelp.ipynb#ch0000005?line=7'>8</a>\u001b[0m     df \u001b[39m=\u001b[39m pd\u001b[39m.\u001b[39mmerge(business_query,review, left_on\u001b[39m=\u001b[39m\u001b[39m\"\u001b[39m\u001b[39mbusiness_id\u001b[39m\u001b[39m\"\u001b[39m, right_on \u001b[39m=\u001b[39m \u001b[39m\"\u001b[39m\u001b[39mbusiness_id\u001b[39m\u001b[39m\"\u001b[39m)\n",
      "File \u001b[1;32m~\\AppData\\Local\\Packages\\PythonSoftwareFoundation.Python.3.8_qbz5n2kfra8p0\\LocalCache\\local-packages\\Python38\\site-packages\\pandas\\core\\ops\\common.py:70\u001b[0m, in \u001b[0;36m_unpack_zerodim_and_defer.<locals>.new_method\u001b[1;34m(self, other)\u001b[0m\n\u001b[0;32m     66\u001b[0m             \u001b[39mreturn\u001b[39;00m \u001b[39mNotImplemented\u001b[39m\n\u001b[0;32m     68\u001b[0m other \u001b[39m=\u001b[39m item_from_zerodim(other)\n\u001b[1;32m---> 70\u001b[0m \u001b[39mreturn\u001b[39;00m method(\u001b[39mself\u001b[39;49m, other)\n",
      "File \u001b[1;32m~\\AppData\\Local\\Packages\\PythonSoftwareFoundation.Python.3.8_qbz5n2kfra8p0\\LocalCache\\local-packages\\Python38\\site-packages\\pandas\\core\\arraylike.py:40\u001b[0m, in \u001b[0;36mOpsMixin.__eq__\u001b[1;34m(self, other)\u001b[0m\n\u001b[0;32m     38\u001b[0m \u001b[39m@unpack_zerodim_and_defer\u001b[39m(\u001b[39m\"\u001b[39m\u001b[39m__eq__\u001b[39m\u001b[39m\"\u001b[39m)\n\u001b[0;32m     39\u001b[0m \u001b[39mdef\u001b[39;00m \u001b[39m__eq__\u001b[39m(\u001b[39mself\u001b[39m, other):\n\u001b[1;32m---> 40\u001b[0m     \u001b[39mreturn\u001b[39;00m \u001b[39mself\u001b[39;49m\u001b[39m.\u001b[39;49m_cmp_method(other, operator\u001b[39m.\u001b[39;49meq)\n",
      "File \u001b[1;32m~\\AppData\\Local\\Packages\\PythonSoftwareFoundation.Python.3.8_qbz5n2kfra8p0\\LocalCache\\local-packages\\Python38\\site-packages\\pandas\\core\\series.py:5623\u001b[0m, in \u001b[0;36mSeries._cmp_method\u001b[1;34m(self, other, op)\u001b[0m\n\u001b[0;32m   5620\u001b[0m rvalues \u001b[39m=\u001b[39m extract_array(other, extract_numpy\u001b[39m=\u001b[39m\u001b[39mTrue\u001b[39;00m, extract_range\u001b[39m=\u001b[39m\u001b[39mTrue\u001b[39;00m)\n\u001b[0;32m   5622\u001b[0m \u001b[39mwith\u001b[39;00m np\u001b[39m.\u001b[39merrstate(\u001b[39mall\u001b[39m\u001b[39m=\u001b[39m\u001b[39m\"\u001b[39m\u001b[39mignore\u001b[39m\u001b[39m\"\u001b[39m):\n\u001b[1;32m-> 5623\u001b[0m     res_values \u001b[39m=\u001b[39m ops\u001b[39m.\u001b[39;49mcomparison_op(lvalues, rvalues, op)\n\u001b[0;32m   5625\u001b[0m \u001b[39mreturn\u001b[39;00m \u001b[39mself\u001b[39m\u001b[39m.\u001b[39m_construct_result(res_values, name\u001b[39m=\u001b[39mres_name)\n",
      "File \u001b[1;32m~\\AppData\\Local\\Packages\\PythonSoftwareFoundation.Python.3.8_qbz5n2kfra8p0\\LocalCache\\local-packages\\Python38\\site-packages\\pandas\\core\\ops\\array_ops.py:283\u001b[0m, in \u001b[0;36mcomparison_op\u001b[1;34m(left, right, op)\u001b[0m\n\u001b[0;32m    280\u001b[0m     \u001b[39mreturn\u001b[39;00m invalid_comparison(lvalues, rvalues, op)\n\u001b[0;32m    282\u001b[0m \u001b[39melif\u001b[39;00m is_object_dtype(lvalues\u001b[39m.\u001b[39mdtype) \u001b[39mor\u001b[39;00m \u001b[39misinstance\u001b[39m(rvalues, \u001b[39mstr\u001b[39m):\n\u001b[1;32m--> 283\u001b[0m     res_values \u001b[39m=\u001b[39m comp_method_OBJECT_ARRAY(op, lvalues, rvalues)\n\u001b[0;32m    285\u001b[0m \u001b[39melse\u001b[39;00m:\n\u001b[0;32m    286\u001b[0m     res_values \u001b[39m=\u001b[39m _na_arithmetic_op(lvalues, rvalues, op, is_cmp\u001b[39m=\u001b[39m\u001b[39mTrue\u001b[39;00m)\n",
      "File \u001b[1;32m~\\AppData\\Local\\Packages\\PythonSoftwareFoundation.Python.3.8_qbz5n2kfra8p0\\LocalCache\\local-packages\\Python38\\site-packages\\pandas\\core\\ops\\array_ops.py:73\u001b[0m, in \u001b[0;36mcomp_method_OBJECT_ARRAY\u001b[1;34m(op, x, y)\u001b[0m\n\u001b[0;32m     71\u001b[0m     result \u001b[39m=\u001b[39m libops\u001b[39m.\u001b[39mvec_compare(x\u001b[39m.\u001b[39mravel(), y\u001b[39m.\u001b[39mravel(), op)\n\u001b[0;32m     72\u001b[0m \u001b[39melse\u001b[39;00m:\n\u001b[1;32m---> 73\u001b[0m     result \u001b[39m=\u001b[39m libops\u001b[39m.\u001b[39;49mscalar_compare(x\u001b[39m.\u001b[39;49mravel(), y, op)\n\u001b[0;32m     74\u001b[0m \u001b[39mreturn\u001b[39;00m result\u001b[39m.\u001b[39mreshape(x\u001b[39m.\u001b[39mshape)\n",
      "File \u001b[1;32m~\\AppData\\Local\\Packages\\PythonSoftwareFoundation.Python.3.8_qbz5n2kfra8p0\\LocalCache\\local-packages\\Python38\\site-packages\\pandas\\_libs\\ops.pyx:95\u001b[0m, in \u001b[0;36mpandas._libs.ops.scalar_compare\u001b[1;34m()\u001b[0m\n",
      "File \u001b[1;32m~\\AppData\\Local\\Packages\\PythonSoftwareFoundation.Python.3.8_qbz5n2kfra8p0\\LocalCache\\local-packages\\Python38\\site-packages\\pandas\\core\\generic.py:1527\u001b[0m, in \u001b[0;36mNDFrame.__nonzero__\u001b[1;34m(self)\u001b[0m\n\u001b[0;32m   1525\u001b[0m \u001b[39m@final\u001b[39m\n\u001b[0;32m   1526\u001b[0m \u001b[39mdef\u001b[39;00m \u001b[39m__nonzero__\u001b[39m(\u001b[39mself\u001b[39m):\n\u001b[1;32m-> 1527\u001b[0m     \u001b[39mraise\u001b[39;00m \u001b[39mValueError\u001b[39;00m(\n\u001b[0;32m   1528\u001b[0m         \u001b[39mf\u001b[39m\u001b[39m\"\u001b[39m\u001b[39mThe truth value of a \u001b[39m\u001b[39m{\u001b[39;00m\u001b[39mtype\u001b[39m(\u001b[39mself\u001b[39m)\u001b[39m.\u001b[39m\u001b[39m__name__\u001b[39m\u001b[39m}\u001b[39;00m\u001b[39m is ambiguous. \u001b[39m\u001b[39m\"\u001b[39m\n\u001b[0;32m   1529\u001b[0m         \u001b[39m\"\u001b[39m\u001b[39mUse a.empty, a.bool(), a.item(), a.any() or a.all().\u001b[39m\u001b[39m\"\u001b[39m\n\u001b[0;32m   1530\u001b[0m     )\n",
      "\u001b[1;31mValueError\u001b[0m: The truth value of a Series is ambiguous. Use a.empty, a.bool(), a.item(), a.any() or a.all()."
     ]
    }
   ],
   "source": [
    "\n",
    "filters = [\"Chinese\",\"Restaurants\"]\n",
    "\n",
    "def filter(filters):\n",
    "    aux = set(filters)\n",
    "    business_query = business[business['categories'] == aux]\n",
    "    review = reviews.loc[(reviews.business_id.isin(business_query.business_id)) & ( reviews.stars >=4)]\n",
    "    df = pd.merge(business_query,review, left_on=\"business_id\", right_on = \"business_id\")\n",
    "    result = df[['name','address',\"stars\"]]\n",
    "    return result"
   ]
  },
  {
   "cell_type": "code",
   "execution_count": 4,
   "metadata": {},
   "outputs": [
    {
     "data": {
      "text/plain": [
       "{RealEstate, Apartments, HomeServices}                                                                                             111\n",
       "{Restaurants, Pizza}                                                                                                               102\n",
       "{NailSalons, Beauty&Spas}                                                                                                           94\n",
       "{Food, Coffee&Tea}                                                                                                                  85\n",
       "{Restaurants, Mexican}                                                                                                              85\n",
       "                                                                                                                                  ... \n",
       "{Trainers, MedicalCenters, Naturopathic/Holistic, Doctors, Gastroenterologist, Fitness&Instruction, Health&Medical, ActiveLife}      1\n",
       "{RetirementHomes, Doctors, RehabilitationCenter, Health&Medical, HomeHealthCare}                                                     1\n",
       "{SecurityServices, Education, SpecialtySchools, ProfessionalServices, FirearmTraining}                                               1\n",
       "{Restaurants, FoodTrucks, Sandwiches, FastFood, Food, EventPlanning&Services, Caterers, German}                                      1\n",
       "{EyelashService, LaserHairRemoval, SkinCare, HairRemoval, Beauty&Spas}                                                               1\n",
       "Name: categories, Length: 4953, dtype: int64"
      ]
     },
     "execution_count": 4,
     "metadata": {},
     "output_type": "execute_result"
    }
   ],
   "source": [
    "business['categories'].value_counts()"
   ]
  },
  {
   "cell_type": "code",
   "execution_count": 37,
   "metadata": {},
   "outputs": [
    {
     "name": "stdout",
     "output_type": "stream",
     "text": [
      "Connected successfully!!!\n"
     ]
    }
   ],
   "source": [
    "from pymongo import MongoClient\n",
    "\n",
    "try:\n",
    "\tmyclient = MongoClient(\"mongodb://localhost:27017/\")\n",
    "\tprint(\"Connected successfully!!!\")\n",
    "except:\n",
    "\tprint(\"Could not connect to MongoDB\")\n",
    "\n",
    "db = myclient['Yelp']\n",
    "collection = db['Users']\n",
    "for i in range(len(user)):\n",
    "\tcollection.insert_one(user.iloc[i].to_dict())\n"
   ]
  },
  {
   "cell_type": "code",
   "execution_count": 30,
   "metadata": {},
   "outputs": [
    {
     "name": "stdout",
     "output_type": "stream",
     "text": [
      "Connected successfully!!!\n"
     ]
    }
   ],
   "source": [
    "from pymongo import MongoClient\n",
    "\n",
    "try:\n",
    "\tmyclient = MongoClient(\"mongodb://localhost:27017/\")\n",
    "\tprint(\"Connected successfully!!!\")\n",
    "except:\n",
    "\tprint(\"Could not connect to MongoDB\")\n",
    "\n",
    "db = myclient['Yelp']\n",
    "collection = db['Reviews']\n",
    "for i in range(len(reviews)):\n",
    "\tcollection.insert_one(reviews.iloc[i].to_dict())"
   ]
  },
  {
   "cell_type": "code",
   "execution_count": 38,
   "metadata": {},
   "outputs": [
    {
     "name": "stdout",
     "output_type": "stream",
     "text": [
      "Connected successfully!!!\n"
     ]
    }
   ],
   "source": [
    "from pymongo import MongoClient\n",
    "\n",
    "try:\n",
    "\tmyclient = MongoClient(\"mongodb://localhost:27017/\")\n",
    "\tprint(\"Connected successfully!!!\")\n",
    "except:\n",
    "\tprint(\"Could not connect to MongoDB\")\n",
    "\n",
    "db = myclient['Yelp']\n",
    "collection = db['Business']\n",
    "for i in range(len(business)):\n",
    "    aux= {k: v if v is not None else 'null' for k, v in business.iloc[1].to_dict().items()}\n",
    "    collection.insert_one(aux)"
   ]
  },
  {
   "cell_type": "code",
   "execution_count": 3,
   "metadata": {},
   "outputs": [
    {
     "ename": "",
     "evalue": "",
     "output_type": "error",
     "traceback": [
      "\u001b[1;31mCanceled future for execute_request message before replies were done"
     ]
    },
    {
     "ename": "",
     "evalue": "",
     "output_type": "error",
     "traceback": [
      "\u001b[1;31mThe Kernel crashed while executing code in the the current cell or a previous cell. Please review the code in the cell(s) to identify a possible cause of the failure. Click <a href='https://aka.ms/vscodeJupyterKernelCrash'>here</a> for more info. View Jupyter <a href='command:jupyter.viewOutput'>log</a> for further details."
     ]
    }
   ],
   "source": [
    "\n",
    "myclient = MongoClient(\"mongodb://localhost:27017/\")\n",
    "db = myclient['Yelp']\n",
    "result = myclient['Yelp']['Reviews'].aggregate([\n",
    "    {\n",
    "        '$lookup': {\n",
    "            'from': 'Users', \n",
    "            'localField': 'user_id', \n",
    "            'foreignField': 'user_id', \n",
    "            'as': 'Users'\n",
    "        }\n",
    "    },\n",
    "    {\n",
    "        '$lookup': {\n",
    "            'from': 'Business', \n",
    "            'localField': 'business_id', \n",
    "            'foreignField': 'business_id', \n",
    "            'as': 'business'\n",
    "        }\n",
    "    }\n",
    "\n",
    "])\n",
    "\n",
    "aux = list(result)\n",
    "df = pd.DataFrame(aux)"
   ]
  },
  {
   "cell_type": "code",
   "execution_count": null,
   "metadata": {},
   "outputs": [],
   "source": []
  },
  {
   "cell_type": "code",
   "execution_count": null,
   "metadata": {},
   "outputs": [],
   "source": [
    "df.head"
   ]
  },
  {
   "cell_type": "code",
   "execution_count": 42,
   "metadata": {},
   "outputs": [
    {
     "name": "stdout",
     "output_type": "stream",
     "text": [
      "Connected successfully!!!\n"
     ]
    },
    {
     "data": {
      "text/html": [
       "<div>\n",
       "<style scoped>\n",
       "    .dataframe tbody tr th:only-of-type {\n",
       "        vertical-align: middle;\n",
       "    }\n",
       "\n",
       "    .dataframe tbody tr th {\n",
       "        vertical-align: top;\n",
       "    }\n",
       "\n",
       "    .dataframe thead th {\n",
       "        text-align: right;\n",
       "    }\n",
       "</style>\n",
       "<table border=\"1\" class=\"dataframe\">\n",
       "  <thead>\n",
       "    <tr style=\"text-align: right;\">\n",
       "      <th></th>\n",
       "      <th>_id</th>\n",
       "      <th>business_id</th>\n",
       "      <th>name</th>\n",
       "      <th>address</th>\n",
       "      <th>city</th>\n",
       "      <th>state</th>\n",
       "      <th>postal_code</th>\n",
       "      <th>latitude</th>\n",
       "      <th>longitude</th>\n",
       "      <th>stars</th>\n",
       "      <th>review_count</th>\n",
       "      <th>is_open</th>\n",
       "      <th>attributes</th>\n",
       "      <th>categories</th>\n",
       "      <th>hours</th>\n",
       "    </tr>\n",
       "  </thead>\n",
       "  <tbody>\n",
       "    <tr>\n",
       "      <th>0</th>\n",
       "      <td>62b5f40b9f361212bcdc9842</td>\n",
       "      <td>QXAEGFB4oINsVuTFxEYKFQ</td>\n",
       "      <td>Emerald Chinese Restaurant</td>\n",
       "      <td>30 Eglinton Avenue W</td>\n",
       "      <td>Mississauga</td>\n",
       "      <td>ON</td>\n",
       "      <td>L5R 3E7</td>\n",
       "      <td>43.605499</td>\n",
       "      <td>-79.652289</td>\n",
       "      <td>2.5</td>\n",
       "      <td>128</td>\n",
       "      <td>1</td>\n",
       "      <td>{'RestaurantsReservations': 'True', 'GoodForMe...</td>\n",
       "      <td>{'SpecialtyFood': True, 'Restaurants': True, '...</td>\n",
       "      <td>{'Monday': '9:0-0:0', 'Tuesday': '9:0-0:0', 'W...</td>\n",
       "    </tr>\n",
       "    <tr>\n",
       "      <th>1</th>\n",
       "      <td>62b5f40b9f361212bcdc9843</td>\n",
       "      <td>QXAEGFB4oINsVuTFxEYKFQ</td>\n",
       "      <td>Emerald Chinese Restaurant</td>\n",
       "      <td>30 Eglinton Avenue W</td>\n",
       "      <td>Mississauga</td>\n",
       "      <td>ON</td>\n",
       "      <td>L5R 3E7</td>\n",
       "      <td>43.605499</td>\n",
       "      <td>-79.652289</td>\n",
       "      <td>2.5</td>\n",
       "      <td>128</td>\n",
       "      <td>1</td>\n",
       "      <td>{'RestaurantsReservations': 'True', 'GoodForMe...</td>\n",
       "      <td>{'SpecialtyFood': True, 'Restaurants': True, '...</td>\n",
       "      <td>{'Monday': '9:0-0:0', 'Tuesday': '9:0-0:0', 'W...</td>\n",
       "    </tr>\n",
       "    <tr>\n",
       "      <th>2</th>\n",
       "      <td>62b5f40b9f361212bcdc9844</td>\n",
       "      <td>QXAEGFB4oINsVuTFxEYKFQ</td>\n",
       "      <td>Emerald Chinese Restaurant</td>\n",
       "      <td>30 Eglinton Avenue W</td>\n",
       "      <td>Mississauga</td>\n",
       "      <td>ON</td>\n",
       "      <td>L5R 3E7</td>\n",
       "      <td>43.605499</td>\n",
       "      <td>-79.652289</td>\n",
       "      <td>2.5</td>\n",
       "      <td>128</td>\n",
       "      <td>1</td>\n",
       "      <td>{'RestaurantsReservations': 'True', 'GoodForMe...</td>\n",
       "      <td>{'SpecialtyFood': True, 'Restaurants': True, '...</td>\n",
       "      <td>{'Monday': '9:0-0:0', 'Tuesday': '9:0-0:0', 'W...</td>\n",
       "    </tr>\n",
       "    <tr>\n",
       "      <th>3</th>\n",
       "      <td>62b5f40b9f361212bcdc9845</td>\n",
       "      <td>QXAEGFB4oINsVuTFxEYKFQ</td>\n",
       "      <td>Emerald Chinese Restaurant</td>\n",
       "      <td>30 Eglinton Avenue W</td>\n",
       "      <td>Mississauga</td>\n",
       "      <td>ON</td>\n",
       "      <td>L5R 3E7</td>\n",
       "      <td>43.605499</td>\n",
       "      <td>-79.652289</td>\n",
       "      <td>2.5</td>\n",
       "      <td>128</td>\n",
       "      <td>1</td>\n",
       "      <td>{'RestaurantsReservations': 'True', 'GoodForMe...</td>\n",
       "      <td>{'SpecialtyFood': True, 'Restaurants': True, '...</td>\n",
       "      <td>{'Monday': '9:0-0:0', 'Tuesday': '9:0-0:0', 'W...</td>\n",
       "    </tr>\n",
       "    <tr>\n",
       "      <th>4</th>\n",
       "      <td>62b5f40b9f361212bcdc9846</td>\n",
       "      <td>QXAEGFB4oINsVuTFxEYKFQ</td>\n",
       "      <td>Emerald Chinese Restaurant</td>\n",
       "      <td>30 Eglinton Avenue W</td>\n",
       "      <td>Mississauga</td>\n",
       "      <td>ON</td>\n",
       "      <td>L5R 3E7</td>\n",
       "      <td>43.605499</td>\n",
       "      <td>-79.652289</td>\n",
       "      <td>2.5</td>\n",
       "      <td>128</td>\n",
       "      <td>1</td>\n",
       "      <td>{'RestaurantsReservations': 'True', 'GoodForMe...</td>\n",
       "      <td>{'SpecialtyFood': True, 'Restaurants': True, '...</td>\n",
       "      <td>{'Monday': '9:0-0:0', 'Tuesday': '9:0-0:0', 'W...</td>\n",
       "    </tr>\n",
       "    <tr>\n",
       "      <th>...</th>\n",
       "      <td>...</td>\n",
       "      <td>...</td>\n",
       "      <td>...</td>\n",
       "      <td>...</td>\n",
       "      <td>...</td>\n",
       "      <td>...</td>\n",
       "      <td>...</td>\n",
       "      <td>...</td>\n",
       "      <td>...</td>\n",
       "      <td>...</td>\n",
       "      <td>...</td>\n",
       "      <td>...</td>\n",
       "      <td>...</td>\n",
       "      <td>...</td>\n",
       "      <td>...</td>\n",
       "    </tr>\n",
       "    <tr>\n",
       "      <th>9995</th>\n",
       "      <td>62b5f4119f361212bcdcbf4d</td>\n",
       "      <td>QXAEGFB4oINsVuTFxEYKFQ</td>\n",
       "      <td>Emerald Chinese Restaurant</td>\n",
       "      <td>30 Eglinton Avenue W</td>\n",
       "      <td>Mississauga</td>\n",
       "      <td>ON</td>\n",
       "      <td>L5R 3E7</td>\n",
       "      <td>43.605499</td>\n",
       "      <td>-79.652289</td>\n",
       "      <td>2.5</td>\n",
       "      <td>128</td>\n",
       "      <td>1</td>\n",
       "      <td>{'RestaurantsReservations': 'True', 'GoodForMe...</td>\n",
       "      <td>{'SpecialtyFood': True, 'Restaurants': True, '...</td>\n",
       "      <td>{'Monday': '9:0-0:0', 'Tuesday': '9:0-0:0', 'W...</td>\n",
       "    </tr>\n",
       "    <tr>\n",
       "      <th>9996</th>\n",
       "      <td>62b5f4119f361212bcdcbf4e</td>\n",
       "      <td>QXAEGFB4oINsVuTFxEYKFQ</td>\n",
       "      <td>Emerald Chinese Restaurant</td>\n",
       "      <td>30 Eglinton Avenue W</td>\n",
       "      <td>Mississauga</td>\n",
       "      <td>ON</td>\n",
       "      <td>L5R 3E7</td>\n",
       "      <td>43.605499</td>\n",
       "      <td>-79.652289</td>\n",
       "      <td>2.5</td>\n",
       "      <td>128</td>\n",
       "      <td>1</td>\n",
       "      <td>{'RestaurantsReservations': 'True', 'GoodForMe...</td>\n",
       "      <td>{'SpecialtyFood': True, 'Restaurants': True, '...</td>\n",
       "      <td>{'Monday': '9:0-0:0', 'Tuesday': '9:0-0:0', 'W...</td>\n",
       "    </tr>\n",
       "    <tr>\n",
       "      <th>9997</th>\n",
       "      <td>62b5f4119f361212bcdcbf4f</td>\n",
       "      <td>QXAEGFB4oINsVuTFxEYKFQ</td>\n",
       "      <td>Emerald Chinese Restaurant</td>\n",
       "      <td>30 Eglinton Avenue W</td>\n",
       "      <td>Mississauga</td>\n",
       "      <td>ON</td>\n",
       "      <td>L5R 3E7</td>\n",
       "      <td>43.605499</td>\n",
       "      <td>-79.652289</td>\n",
       "      <td>2.5</td>\n",
       "      <td>128</td>\n",
       "      <td>1</td>\n",
       "      <td>{'RestaurantsReservations': 'True', 'GoodForMe...</td>\n",
       "      <td>{'SpecialtyFood': True, 'Restaurants': True, '...</td>\n",
       "      <td>{'Monday': '9:0-0:0', 'Tuesday': '9:0-0:0', 'W...</td>\n",
       "    </tr>\n",
       "    <tr>\n",
       "      <th>9998</th>\n",
       "      <td>62b5f4119f361212bcdcbf50</td>\n",
       "      <td>QXAEGFB4oINsVuTFxEYKFQ</td>\n",
       "      <td>Emerald Chinese Restaurant</td>\n",
       "      <td>30 Eglinton Avenue W</td>\n",
       "      <td>Mississauga</td>\n",
       "      <td>ON</td>\n",
       "      <td>L5R 3E7</td>\n",
       "      <td>43.605499</td>\n",
       "      <td>-79.652289</td>\n",
       "      <td>2.5</td>\n",
       "      <td>128</td>\n",
       "      <td>1</td>\n",
       "      <td>{'RestaurantsReservations': 'True', 'GoodForMe...</td>\n",
       "      <td>{'SpecialtyFood': True, 'Restaurants': True, '...</td>\n",
       "      <td>{'Monday': '9:0-0:0', 'Tuesday': '9:0-0:0', 'W...</td>\n",
       "    </tr>\n",
       "    <tr>\n",
       "      <th>9999</th>\n",
       "      <td>62b5f4119f361212bcdcbf51</td>\n",
       "      <td>QXAEGFB4oINsVuTFxEYKFQ</td>\n",
       "      <td>Emerald Chinese Restaurant</td>\n",
       "      <td>30 Eglinton Avenue W</td>\n",
       "      <td>Mississauga</td>\n",
       "      <td>ON</td>\n",
       "      <td>L5R 3E7</td>\n",
       "      <td>43.605499</td>\n",
       "      <td>-79.652289</td>\n",
       "      <td>2.5</td>\n",
       "      <td>128</td>\n",
       "      <td>1</td>\n",
       "      <td>{'RestaurantsReservations': 'True', 'GoodForMe...</td>\n",
       "      <td>{'SpecialtyFood': True, 'Restaurants': True, '...</td>\n",
       "      <td>{'Monday': '9:0-0:0', 'Tuesday': '9:0-0:0', 'W...</td>\n",
       "    </tr>\n",
       "  </tbody>\n",
       "</table>\n",
       "<p>10000 rows × 15 columns</p>\n",
       "</div>"
      ],
      "text/plain": [
       "                           _id             business_id  \\\n",
       "0     62b5f40b9f361212bcdc9842  QXAEGFB4oINsVuTFxEYKFQ   \n",
       "1     62b5f40b9f361212bcdc9843  QXAEGFB4oINsVuTFxEYKFQ   \n",
       "2     62b5f40b9f361212bcdc9844  QXAEGFB4oINsVuTFxEYKFQ   \n",
       "3     62b5f40b9f361212bcdc9845  QXAEGFB4oINsVuTFxEYKFQ   \n",
       "4     62b5f40b9f361212bcdc9846  QXAEGFB4oINsVuTFxEYKFQ   \n",
       "...                        ...                     ...   \n",
       "9995  62b5f4119f361212bcdcbf4d  QXAEGFB4oINsVuTFxEYKFQ   \n",
       "9996  62b5f4119f361212bcdcbf4e  QXAEGFB4oINsVuTFxEYKFQ   \n",
       "9997  62b5f4119f361212bcdcbf4f  QXAEGFB4oINsVuTFxEYKFQ   \n",
       "9998  62b5f4119f361212bcdcbf50  QXAEGFB4oINsVuTFxEYKFQ   \n",
       "9999  62b5f4119f361212bcdcbf51  QXAEGFB4oINsVuTFxEYKFQ   \n",
       "\n",
       "                            name               address         city state  \\\n",
       "0     Emerald Chinese Restaurant  30 Eglinton Avenue W  Mississauga    ON   \n",
       "1     Emerald Chinese Restaurant  30 Eglinton Avenue W  Mississauga    ON   \n",
       "2     Emerald Chinese Restaurant  30 Eglinton Avenue W  Mississauga    ON   \n",
       "3     Emerald Chinese Restaurant  30 Eglinton Avenue W  Mississauga    ON   \n",
       "4     Emerald Chinese Restaurant  30 Eglinton Avenue W  Mississauga    ON   \n",
       "...                          ...                   ...          ...   ...   \n",
       "9995  Emerald Chinese Restaurant  30 Eglinton Avenue W  Mississauga    ON   \n",
       "9996  Emerald Chinese Restaurant  30 Eglinton Avenue W  Mississauga    ON   \n",
       "9997  Emerald Chinese Restaurant  30 Eglinton Avenue W  Mississauga    ON   \n",
       "9998  Emerald Chinese Restaurant  30 Eglinton Avenue W  Mississauga    ON   \n",
       "9999  Emerald Chinese Restaurant  30 Eglinton Avenue W  Mississauga    ON   \n",
       "\n",
       "     postal_code   latitude  longitude  stars  review_count  is_open  \\\n",
       "0        L5R 3E7  43.605499 -79.652289    2.5           128        1   \n",
       "1        L5R 3E7  43.605499 -79.652289    2.5           128        1   \n",
       "2        L5R 3E7  43.605499 -79.652289    2.5           128        1   \n",
       "3        L5R 3E7  43.605499 -79.652289    2.5           128        1   \n",
       "4        L5R 3E7  43.605499 -79.652289    2.5           128        1   \n",
       "...          ...        ...        ...    ...           ...      ...   \n",
       "9995     L5R 3E7  43.605499 -79.652289    2.5           128        1   \n",
       "9996     L5R 3E7  43.605499 -79.652289    2.5           128        1   \n",
       "9997     L5R 3E7  43.605499 -79.652289    2.5           128        1   \n",
       "9998     L5R 3E7  43.605499 -79.652289    2.5           128        1   \n",
       "9999     L5R 3E7  43.605499 -79.652289    2.5           128        1   \n",
       "\n",
       "                                             attributes  \\\n",
       "0     {'RestaurantsReservations': 'True', 'GoodForMe...   \n",
       "1     {'RestaurantsReservations': 'True', 'GoodForMe...   \n",
       "2     {'RestaurantsReservations': 'True', 'GoodForMe...   \n",
       "3     {'RestaurantsReservations': 'True', 'GoodForMe...   \n",
       "4     {'RestaurantsReservations': 'True', 'GoodForMe...   \n",
       "...                                                 ...   \n",
       "9995  {'RestaurantsReservations': 'True', 'GoodForMe...   \n",
       "9996  {'RestaurantsReservations': 'True', 'GoodForMe...   \n",
       "9997  {'RestaurantsReservations': 'True', 'GoodForMe...   \n",
       "9998  {'RestaurantsReservations': 'True', 'GoodForMe...   \n",
       "9999  {'RestaurantsReservations': 'True', 'GoodForMe...   \n",
       "\n",
       "                                             categories  \\\n",
       "0     {'SpecialtyFood': True, 'Restaurants': True, '...   \n",
       "1     {'SpecialtyFood': True, 'Restaurants': True, '...   \n",
       "2     {'SpecialtyFood': True, 'Restaurants': True, '...   \n",
       "3     {'SpecialtyFood': True, 'Restaurants': True, '...   \n",
       "4     {'SpecialtyFood': True, 'Restaurants': True, '...   \n",
       "...                                                 ...   \n",
       "9995  {'SpecialtyFood': True, 'Restaurants': True, '...   \n",
       "9996  {'SpecialtyFood': True, 'Restaurants': True, '...   \n",
       "9997  {'SpecialtyFood': True, 'Restaurants': True, '...   \n",
       "9998  {'SpecialtyFood': True, 'Restaurants': True, '...   \n",
       "9999  {'SpecialtyFood': True, 'Restaurants': True, '...   \n",
       "\n",
       "                                                  hours  \n",
       "0     {'Monday': '9:0-0:0', 'Tuesday': '9:0-0:0', 'W...  \n",
       "1     {'Monday': '9:0-0:0', 'Tuesday': '9:0-0:0', 'W...  \n",
       "2     {'Monday': '9:0-0:0', 'Tuesday': '9:0-0:0', 'W...  \n",
       "3     {'Monday': '9:0-0:0', 'Tuesday': '9:0-0:0', 'W...  \n",
       "4     {'Monday': '9:0-0:0', 'Tuesday': '9:0-0:0', 'W...  \n",
       "...                                                 ...  \n",
       "9995  {'Monday': '9:0-0:0', 'Tuesday': '9:0-0:0', 'W...  \n",
       "9996  {'Monday': '9:0-0:0', 'Tuesday': '9:0-0:0', 'W...  \n",
       "9997  {'Monday': '9:0-0:0', 'Tuesday': '9:0-0:0', 'W...  \n",
       "9998  {'Monday': '9:0-0:0', 'Tuesday': '9:0-0:0', 'W...  \n",
       "9999  {'Monday': '9:0-0:0', 'Tuesday': '9:0-0:0', 'W...  \n",
       "\n",
       "[10000 rows x 15 columns]"
      ]
     },
     "execution_count": 42,
     "metadata": {},
     "output_type": "execute_result"
    }
   ],
   "source": [
    "try:\n",
    "\tmyclient = MongoClient(\"mongodb://localhost:27017/\")\n",
    "\tprint(\"Connected successfully!!!\")\n",
    "except:\n",
    "\tprint(\"Could not connect to MongoDB\")\n",
    "db = myclient['Yelp']\n",
    "collection = db['Business']\n",
    "business_query = pd.DataFrame(collection.find())\n",
    "business_query"
   ]
  }
 ],
 "metadata": {
  "interpreter": {
   "hash": "19eea75d2e76ad210b3a4bf2fadf48b38407374b46c2c571b5f8bcae1975aae9"
  },
  "kernelspec": {
   "display_name": "Python 3.8.10 64-bit (windows store)",
   "language": "python",
   "name": "python3"
  },
  "language_info": {
   "codemirror_mode": {
    "name": "ipython",
    "version": 3
   },
   "file_extension": ".py",
   "mimetype": "text/x-python",
   "name": "python",
   "nbconvert_exporter": "python",
   "pygments_lexer": "ipython3",
   "version": "3.8.10"
  },
  "orig_nbformat": 4
 },
 "nbformat": 4,
 "nbformat_minor": 2
}
